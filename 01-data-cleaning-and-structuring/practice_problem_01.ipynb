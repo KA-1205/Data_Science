{
 "cells": [
  {
   "cell_type": "code",
   "execution_count": null,
   "id": "d7b203ef",
   "metadata": {},
   "outputs": [
    {
     "data": {
      "text/plain": [
       "' \\nEXPECTED OUTCOME\\n\\nUsers and Their Connections:\\nAmit (ID: 1) - Friends: [2, 3] - Liked Pages: [101]\\nPriya (ID: 2) - Friends: [1, 4] - Liked Pages: [102]\\nRahul (ID: 3) - Friends: [1] - Liked Pages: [101, 103]\\nSara (ID: 4) - Friends: [2] - Liked Pages: [104]\\n\\nPages:\\n101: Python Developers\\n102: Data Science Enthusiasts\\n103: AI & ML Community\\n104: Web Dev Hub \\n'"
      ]
     },
     "execution_count": 8,
     "metadata": {},
     "output_type": "execute_result"
    }
   ],
   "source": [
    "'''\n",
    "Your goal is to load this data and print it in a structured way. Use Python's built-in modules to accomplish this.\n",
    "\n",
    "Steps:\n",
    "1. Save the JSON data in a file (codebook_data.json).\n",
    "2. Read the JSON file using Python.\n",
    "3. Print user details and their connections.\n",
    "4. Print available pages\n",
    "'''\n",
    "\n",
    "''' \n",
    "EXPECTED OUTCOME\n",
    "\n",
    "Users and Their Connections:\n",
    "\n",
    "Amit (ID: 1) - Friends: [2, 3] - Liked Pages: [101]\n",
    "Priya (ID: 2) - Friends: [1, 4] - Liked Pages: [102]\n",
    "Rahul (ID: 3) - Friends: [1] - Liked Pages: [101, 103]\n",
    "Sara (ID: 4) - Friends: [2] - Liked Pages: [104]\n",
    "\n",
    "Pages:\n",
    "\n",
    "101: Python Developers\n",
    "102: Data Science Enthusiasts\n",
    "103: AI & ML Community\n",
    "104: Web Dev Hub \n",
    "'''"
   ]
  },
  {
   "cell_type": "code",
   "execution_count": 9,
   "id": "3a608935",
   "metadata": {},
   "outputs": [],
   "source": [
    "import json"
   ]
  },
  {
   "cell_type": "code",
   "execution_count": 10,
   "id": "3f08ddf3",
   "metadata": {},
   "outputs": [],
   "source": [
    "def open_json_file(file_name):\n",
    "    with open(file_name, 'r') as file:\n",
    "        data = json.load(file)\n",
    "        return data"
   ]
  },
  {
   "cell_type": "code",
   "execution_count": null,
   "id": "a670cf77",
   "metadata": {},
   "outputs": [],
   "source": [
    "def print_data(data):\n",
    "    print(\"Users and Their Connections:\\n\")\n",
    "    for user in data['users']:\n",
    "        print(f\"{user['name']} (ID: {user['id']}) - Friends: {user['friends']} - Liked Pages: {user['liked_pages']})\")\n",
    "    print(\"\\nPages:\\n\")\n",
    "    for page in data['pages']:\n",
    "        print(f\"{page['id']}: {page['name']}\")"
   ]
  },
  {
   "cell_type": "code",
   "execution_count": 14,
   "id": "fb8337b9",
   "metadata": {},
   "outputs": [
    {
     "name": "stdout",
     "output_type": "stream",
     "text": [
      "Users and Their Connections:\n",
      "Amit (ID: 1 - Friends: [2, 3, 5] - Liked Pages: [101, 105])\n",
      "Priya (ID: 2 - Friends: [1, 4, 6] - Liked Pages: [102, 106])\n",
      "Rahul (ID: 3 - Friends: [1, 7] - Liked Pages: [101, 103, 107])\n",
      "Sara (ID: 4 - Friends: [2, 8] - Liked Pages: [104, 102])\n",
      "Neha (ID: 5 - Friends: [1, 6] - Liked Pages: [105, 106])\n",
      "Vikram (ID: 6 - Friends: [2, 5, 9] - Liked Pages: [102, 108])\n",
      "Anjali (ID: 7 - Friends: [3, 10] - Liked Pages: [103, 104])\n",
      "Karan (ID: 8 - Friends: [4, 11] - Liked Pages: [107])\n",
      "Meera (ID: 9 - Friends: [6, 10, 12] - Liked Pages: [108])\n",
      "Rohit (ID: 10 - Friends: [7, 9] - Liked Pages: [101, 105])\n",
      "Tanya (ID: 11 - Friends: [8, 12, 13] - Liked Pages: [109, 101])\n",
      "Arjun (ID: 12 - Friends: [9, 11, 14] - Liked Pages: [110, 106])\n",
      "Sneha (ID: 13 - Friends: [11, 14] - Liked Pages: [103, 110])\n",
      "Varun (ID: 14 - Friends: [12, 13, 15] - Liked Pages: [111, 104])\n",
      "Riya (ID: 15 - Friends: [14, 16] - Liked Pages: [101, 111])\n",
      "Dev (ID: 16 - Friends: [15, 17] - Liked Pages: [102, 112])\n",
      "Nisha (ID: 17 - Friends: [16, 18] - Liked Pages: [105, 109])\n",
      "Manish (ID: 18 - Friends: [17, 19, 20] - Liked Pages: [108, 103])\n",
      "Divya (ID: 19 - Friends: [18, 20] - Liked Pages: [112, 110])\n",
      "Abhay (ID: 20 - Friends: [18, 19, 21] - Liked Pages: [106, 104])\n",
      "Pooja (ID: 21 - Friends: [20, 22] - Liked Pages: [111, 109])\n",
      "Ishaan (ID: 22 - Friends: [21, 23] - Liked Pages: [107, 103])\n",
      "Ankita (ID: 23 - Friends: [22, 24] - Liked Pages: [110, 108])\n",
      "Siddharth (ID: 24 - Friends: [23, 25] - Liked Pages: [101, 112])\n",
      "Kriti (ID: 25 - Friends: [24] - Liked Pages: [102, 109])\n",
      "\n",
      "Pages:\n",
      "101: Python Developers\n",
      "102: Data Science Enthusiasts\n",
      "103: AI & ML Community\n",
      "104: Web Dev Hub\n",
      "105: Cloud Computing Zone\n",
      "106: Statistics & Probability Group\n",
      "107: Deep Learning Lab\n",
      "108: Big Data Analytics\n",
      "109: Natural Language Processing\n",
      "110: Computer Vision Central\n",
      "111: DevOps Enthusiasts\n",
      "112: Blockchain Builders\n"
     ]
    }
   ],
   "source": [
    "if __name__== \"__main__\":\n",
    "    data = open_json_file('data.json')\n",
    "    print_data(data)"
   ]
  }
 ],
 "metadata": {
  "kernelspec": {
   "display_name": "VS_CODE",
   "language": "python",
   "name": "python3"
  },
  "language_info": {
   "codemirror_mode": {
    "name": "ipython",
    "version": 3
   },
   "file_extension": ".py",
   "mimetype": "text/x-python",
   "name": "python",
   "nbconvert_exporter": "python",
   "pygments_lexer": "ipython3",
   "version": "3.12.9"
  }
 },
 "nbformat": 4,
 "nbformat_minor": 5
}

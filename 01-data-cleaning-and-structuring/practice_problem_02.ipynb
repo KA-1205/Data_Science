{
 "cells": [
  {
   "cell_type": "code",
   "execution_count": null,
   "id": "e53b98bb",
   "metadata": {},
   "outputs": [],
   "source": [
    "'''\n",
    "Your task is to:\n",
    "\n",
    "Handle missing values\n",
    "Remove duplicate or inconsistent data\n",
    "Standardize the data format\n",
    "\n",
    "Remove users with missing names.\n",
    "Remove duplicate friend entries.\n",
    "Remove inactive users (users with no friends and no liked pages).\n",
    "Deduplicate pages based on IDs.\n",
    "\n",
    "'''"
   ]
  },
  {
   "cell_type": "code",
   "execution_count": null,
   "id": "4e613560",
   "metadata": {},
   "outputs": [],
   "source": [
    "import json"
   ]
  },
  {
   "cell_type": "code",
   "execution_count": null,
   "id": "7e6e7a6c",
   "metadata": {},
   "outputs": [],
   "source": [
    "def open_json_file(file):\n",
    "    with open(file, 'r') as file:\n",
    "        return json.load(file)\n",
    "    \n",
    "def clean_data(data):\n",
    "    # Remove users with missing names\n",
    "    data['users'] = [user for user in data['users'] if user['name'].strip()]\n",
    "\n",
    "    # Remove duplicate friend entries\n",
    "    for user in data['users']:\n",
    "        user['friends'] = list(set(user['friends']))\n",
    "\n",
    "    #Remove inactive users (users with no friends and no liked pages)\n",
    "    data['users'] = [user for user in data['users'] if user['friends'] or user['liked_pages']]\n",
    "\n",
    "\n",
    "    #Deduplicate pages based on IDs.\n",
    "    unique_page_ids = {}\n",
    "    for page in data['pages']:\n",
    "        unique_page_ids[page['id']] = page\n",
    "    data['pages'] = list(unique_page_ids.values())\n",
    "    return data"
   ]
  },
  {
   "cell_type": "code",
   "execution_count": null,
   "id": "1e5bac95",
   "metadata": {},
   "outputs": [],
   "source": [
    "def dump_json_file(file, data):\n",
    "    with open(file, 'w') as file:\n",
    "        json.dump(data, file)"
   ]
  },
  {
   "cell_type": "code",
   "execution_count": null,
   "id": "e73da8a8",
   "metadata": {},
   "outputs": [],
   "source": [
    "if __name__ == \"__main__\":\n",
    "    data = open_json_file('data_problem_02.json')\n",
    "    cleaned_data = clean_data(data)\n",
    "    dump_json_file('cleaned_data_problem_02.json', cleaned_data)\n",
    "    print(\"Data cleaned and saved to 'cleaned_data_problem_02.json'\")"
   ]
  },
  {
   "cell_type": "code",
   "execution_count": null,
   "id": "f44612a0",
   "metadata": {},
   "outputs": [],
   "source": []
  }
 ],
 "metadata": {
  "kernelspec": {
   "display_name": "VS_CODE",
   "language": "python",
   "name": "python3"
  },
  "language_info": {
   "codemirror_mode": {
    "name": "ipython",
    "version": 3
   },
   "file_extension": ".py",
   "mimetype": "text/x-python",
   "name": "python",
   "nbconvert_exporter": "python",
   "pygments_lexer": "ipython3",
   "version": "3.12.9"
  }
 },
 "nbformat": 4,
 "nbformat_minor": 5
}
